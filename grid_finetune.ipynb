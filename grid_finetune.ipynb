{
 "cells": [
  {
   "cell_type": "markdown",
   "metadata": {},
   "source": [
    "# 通过网格参数和原yaml生成新yaml文件"
   ]
  },
  {
   "cell_type": "code",
   "execution_count": 4,
   "metadata": {},
   "outputs": [],
   "source": [
    "import yaml\n",
    "\n",
    "# 读取YAML文件\n",
    "def read_yaml(file_path):\n",
    "    with open(file_path, 'r', encoding='utf-8') as file:\n",
    "        data = yaml.safe_load(file)\n",
    "    return data\n",
    "\n",
    "# 修改YAML文件中的参数\n",
    "def modify_yaml(data, output_file):\n",
    "    num_train_epochs = [1,2]\n",
    "    gradient_accumulation_steps = [1,2]\n",
    "    for g in gradient_accumulation_steps:\n",
    "        for n in num_train_epochs:\n",
    "            data['num_train_epochs'] = n\n",
    "            data['gradient_accumulation_steps'] = g\n",
    "            # data['learning_rate'] = value\n",
    "            # data['cutoff_len'] = value\n",
    "            yaml_str = yaml.dump(data, sort_keys=False)\n",
    "            yaml_filename = output_file +str(n)+'_'+str(g)+'output.yaml'\n",
    "            with open(yaml_filename, 'w', encoding='utf-8') as file:\n",
    "                file.write(yaml_str)\n",
    "            # print('1')\n",
    "    return data\n",
    "\n",
    "input_file = 'F:/Working/PMAIP/why/datasets/qwen2.5_3b_lora_sft.yaml'  # 输入的YAML文件路径\n",
    "output_file = 'F:/Working/PMAIP/why/datasets/yaml/trys/'  # 输出的YAML文件路径\n",
    "\n",
    "# 读取YAML文件\n",
    "data = read_yaml(input_file)\n",
    "\n",
    "# 修改参数，这里以修改名为\"parameter\"的参数为例\n",
    "data = modify_yaml(data, output_file)\n",
    "\n",
    "\n"
   ]
  },
  {
   "cell_type": "markdown",
   "metadata": {},
   "source": [
    "# 按顺序执行新的yaml文件"
   ]
  },
  {
   "cell_type": "code",
   "execution_count": 11,
   "metadata": {},
   "outputs": [],
   "source": [
    "import subprocess\n",
    "import os\n",
    "\n",
    "def list_files(directory):\n",
    "    for root, dirs, files in os.walk(directory):\n",
    "        for file in files:\n",
    "            # full_file = os.path.join(root, file)\n",
    "            full_cmd = 'python '+root+'/'+file\n",
    "            result = subprocess.run(full_cmd, shell=True, text=True, capture_output=True)\n",
    "            print(result.stdout)\n",
    "            print(full_cmd)\n",
    "            print(\"1\")\n",
    "\n",
    "# 使用函数\n",
    "directory_to_list = 'F:/Working/PMAIP/why/datasets/yaml/newtrys'  # 替换为你想要遍历的目录路径\n",
    "list_files(directory_to_list)"
   ]
  }
 ],
 "metadata": {
  "kernelspec": {
   "display_name": "torch_v2.0_gpu",
   "language": "python",
   "name": "python3"
  },
  "language_info": {
   "codemirror_mode": {
    "name": "ipython",
    "version": 3
   },
   "file_extension": ".py",
   "mimetype": "text/x-python",
   "name": "python",
   "nbconvert_exporter": "python",
   "pygments_lexer": "ipython3",
   "version": "3.8.17"
  }
 },
 "nbformat": 4,
 "nbformat_minor": 2
}
